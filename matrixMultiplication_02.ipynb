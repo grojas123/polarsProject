{
 "cells": [
  {
   "cell_type": "code",
   "id": "initial_id",
   "metadata": {
    "collapsed": true,
    "ExecuteTime": {
     "end_time": "2024-09-07T23:59:47.246810Z",
     "start_time": "2024-09-07T23:59:46.106324Z"
    }
   },
   "source": [
    "import polars as pl\n",
    "\n",
    "# Create a Polars DataFrame\n",
    "df = pl.DataFrame({\n",
    "    \"a\": [1, 2, 3],\n",
    "    \"b\": [4, 5, 6]\n",
    "})\n",
    "\n",
    "# Perform element-wise multiplication and sum the result\n",
    "dot_product = (df[\"a\"] * df[\"b\"]).sum()\n",
    "\n",
    "# Print the result\n",
    "print(\"Dot Product:\", dot_product)\n"
   ],
   "outputs": [
    {
     "name": "stdout",
     "output_type": "stream",
     "text": [
      "Dot Product: 32\n"
     ]
    }
   ],
   "execution_count": 1
  },
  {
   "metadata": {
    "ExecuteTime": {
     "end_time": "2024-09-08T00:06:21.386680Z",
     "start_time": "2024-09-08T00:06:20.587704Z"
    }
   },
   "cell_type": "code",
   "source": [
    "import polars as pl\n",
    "\n",
    "# Create the first Polars DataFrame\n",
    "df1 = pl.DataFrame({\n",
    "    \"id\": [1, 2, 3],\n",
    "    \"value1\": [10, 20, 30]\n",
    "})\n",
    "\n",
    "# Create the second Polars DataFrame\n",
    "df2 = pl.DataFrame({\n",
    "    \"id\": [1, 2, 3],\n",
    "    \"value2\": [4, 5, 6]\n",
    "})\n",
    "\n",
    "# Join the DataFrames on the 'id' column\n",
    "joined_df = df1.join(df2, on=\"id\")\n",
    "\n",
    "# Perform element-wise multiplication and sum the result\n",
    "dot_product = (joined_df[\"value1\"] * joined_df[\"value2\"]).sum()\n",
    "\n",
    "# Print the result\n",
    "print(\"Dot Product:\", dot_product)\n"
   ],
   "id": "4956d681deba4ef7",
   "outputs": [
    {
     "name": "stdout",
     "output_type": "stream",
     "text": [
      "Dot Product: 320\n"
     ]
    }
   ],
   "execution_count": 1
  }
 ],
 "metadata": {
  "kernelspec": {
   "display_name": "Python 3",
   "language": "python",
   "name": "python3"
  },
  "language_info": {
   "codemirror_mode": {
    "name": "ipython",
    "version": 2
   },
   "file_extension": ".py",
   "mimetype": "text/x-python",
   "name": "python",
   "nbconvert_exporter": "python",
   "pygments_lexer": "ipython2",
   "version": "2.7.6"
  }
 },
 "nbformat": 4,
 "nbformat_minor": 5
}
