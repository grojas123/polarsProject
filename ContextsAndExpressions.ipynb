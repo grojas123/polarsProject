{
 "cells": [
  {
   "cell_type": "code",
   "id": "initial_id",
   "metadata": {
    "collapsed": true,
    "ExecuteTime": {
     "end_time": "2024-09-08T00:27:51.132060Z",
     "start_time": "2024-09-08T00:27:50.672924Z"
    }
   },
   "source": [
    "import numpy as np\n",
    "import polars as pl"
   ],
   "outputs": [],
   "execution_count": 3
  },
  {
   "metadata": {
    "ExecuteTime": {
     "end_time": "2024-09-08T00:27:51.505926Z",
     "start_time": "2024-09-08T00:27:51.476604Z"
    }
   },
   "cell_type": "code",
   "source": [
    "num_rows= 5000\n",
    "rng = np.random.default_rng(seed=7)"
   ],
   "id": "25892f08d34e4201",
   "outputs": [],
   "execution_count": 4
  },
  {
   "metadata": {
    "ExecuteTime": {
     "end_time": "2024-09-08T00:27:52.382893Z",
     "start_time": "2024-09-08T00:27:52.378660Z"
    }
   },
   "cell_type": "code",
   "source": [
    "buildings_data = {\n",
    "    \"sqft\": rng.exponential(scale=1000, size=num_rows),\n",
    "    \"year\": rng.integers(low=1995, high=2023, size=num_rows),\n",
    "    \"building_type\": rng.choice([\"A\", \"B\", \"C\"], size=num_rows),\n",
    "}"
   ],
   "id": "83e2f500dc44cd72",
   "outputs": [],
   "execution_count": 5
  },
  {
   "metadata": {
    "ExecuteTime": {
     "end_time": "2024-09-08T00:29:30.928851Z",
     "start_time": "2024-09-08T00:29:30.920317Z"
    }
   },
   "cell_type": "code",
   "source": "buildings = pl.DataFrame(buildings_data)",
   "id": "ba1498747199491e",
   "outputs": [],
   "execution_count": 6
  },
  {
   "metadata": {
    "ExecuteTime": {
     "end_time": "2024-09-08T00:30:53.152611Z",
     "start_time": "2024-09-08T00:30:53.145438Z"
    }
   },
   "cell_type": "code",
   "source": "buildings.select(\"sqft\")",
   "id": "61cb1df5d32125e",
   "outputs": [
    {
     "data": {
      "text/plain": [
       "shape: (5_000, 1)\n",
       "┌─────────────┐\n",
       "│ sqft        │\n",
       "│ ---         │\n",
       "│ f64         │\n",
       "╞═════════════╡\n",
       "│ 707.529256  │\n",
       "│ 1025.203348 │\n",
       "│ 568.548657  │\n",
       "│ 895.109864  │\n",
       "│ 206.532754  │\n",
       "│ …           │\n",
       "│ 710.435755  │\n",
       "│ 408.872783  │\n",
       "│ 57.562059   │\n",
       "│ 3728.088949 │\n",
       "│ 686.678345  │\n",
       "└─────────────┘"
      ],
      "text/html": [
       "<div><style>\n",
       ".dataframe > thead > tr,\n",
       ".dataframe > tbody > tr {\n",
       "  text-align: right;\n",
       "  white-space: pre-wrap;\n",
       "}\n",
       "</style>\n",
       "<small>shape: (5_000, 1)</small><table border=\"1\" class=\"dataframe\"><thead><tr><th>sqft</th></tr><tr><td>f64</td></tr></thead><tbody><tr><td>707.529256</td></tr><tr><td>1025.203348</td></tr><tr><td>568.548657</td></tr><tr><td>895.109864</td></tr><tr><td>206.532754</td></tr><tr><td>&hellip;</td></tr><tr><td>710.435755</td></tr><tr><td>408.872783</td></tr><tr><td>57.562059</td></tr><tr><td>3728.088949</td></tr><tr><td>686.678345</td></tr></tbody></table></div>"
      ]
     },
     "execution_count": 9,
     "metadata": {},
     "output_type": "execute_result"
    }
   ],
   "execution_count": 9
  },
  {
   "metadata": {
    "ExecuteTime": {
     "end_time": "2024-09-08T00:32:01.706799Z",
     "start_time": "2024-09-08T00:32:01.695157Z"
    }
   },
   "cell_type": "code",
   "source": "buildings.select(pl.col(\"sqft\"))",
   "id": "bb367306ee962b63",
   "outputs": [
    {
     "data": {
      "text/plain": [
       "shape: (5_000, 1)\n",
       "┌─────────────┐\n",
       "│ sqft        │\n",
       "│ ---         │\n",
       "│ f64         │\n",
       "╞═════════════╡\n",
       "│ 707.529256  │\n",
       "│ 1025.203348 │\n",
       "│ 568.548657  │\n",
       "│ 895.109864  │\n",
       "│ 206.532754  │\n",
       "│ …           │\n",
       "│ 710.435755  │\n",
       "│ 408.872783  │\n",
       "│ 57.562059   │\n",
       "│ 3728.088949 │\n",
       "│ 686.678345  │\n",
       "└─────────────┘"
      ],
      "text/html": [
       "<div><style>\n",
       ".dataframe > thead > tr,\n",
       ".dataframe > tbody > tr {\n",
       "  text-align: right;\n",
       "  white-space: pre-wrap;\n",
       "}\n",
       "</style>\n",
       "<small>shape: (5_000, 1)</small><table border=\"1\" class=\"dataframe\"><thead><tr><th>sqft</th></tr><tr><td>f64</td></tr></thead><tbody><tr><td>707.529256</td></tr><tr><td>1025.203348</td></tr><tr><td>568.548657</td></tr><tr><td>895.109864</td></tr><tr><td>206.532754</td></tr><tr><td>&hellip;</td></tr><tr><td>710.435755</td></tr><tr><td>408.872783</td></tr><tr><td>57.562059</td></tr><tr><td>3728.088949</td></tr><tr><td>686.678345</td></tr></tbody></table></div>"
      ]
     },
     "execution_count": 10,
     "metadata": {},
     "output_type": "execute_result"
    }
   ],
   "execution_count": 10
  },
  {
   "metadata": {
    "ExecuteTime": {
     "end_time": "2024-09-08T00:34:04.207420Z",
     "start_time": "2024-09-08T00:34:04.177391Z"
    }
   },
   "cell_type": "code",
   "source": "buildings.select(pl.col(\"sqft\").sort()/1000)",
   "id": "fecd7b7b4a4b72da",
   "outputs": [
    {
     "data": {
      "text/plain": [
       "shape: (5_000, 1)\n",
       "┌──────────┐\n",
       "│ sqft     │\n",
       "│ ---      │\n",
       "│ f64      │\n",
       "╞══════════╡\n",
       "│ 0.001133 │\n",
       "│ 0.001152 │\n",
       "│ 0.001429 │\n",
       "│ 0.001439 │\n",
       "│ 0.001505 │\n",
       "│ …        │\n",
       "│ 6.931917 │\n",
       "│ 7.247539 │\n",
       "│ 7.629569 │\n",
       "│ 8.313942 │\n",
       "│ 9.307794 │\n",
       "└──────────┘"
      ],
      "text/html": [
       "<div><style>\n",
       ".dataframe > thead > tr,\n",
       ".dataframe > tbody > tr {\n",
       "  text-align: right;\n",
       "  white-space: pre-wrap;\n",
       "}\n",
       "</style>\n",
       "<small>shape: (5_000, 1)</small><table border=\"1\" class=\"dataframe\"><thead><tr><th>sqft</th></tr><tr><td>f64</td></tr></thead><tbody><tr><td>0.001133</td></tr><tr><td>0.001152</td></tr><tr><td>0.001429</td></tr><tr><td>0.001439</td></tr><tr><td>0.001505</td></tr><tr><td>&hellip;</td></tr><tr><td>6.931917</td></tr><tr><td>7.247539</td></tr><tr><td>7.629569</td></tr><tr><td>8.313942</td></tr><tr><td>9.307794</td></tr></tbody></table></div>"
      ]
     },
     "execution_count": 11,
     "metadata": {},
     "output_type": "execute_result"
    }
   ],
   "execution_count": 11
  },
  {
   "metadata": {
    "ExecuteTime": {
     "end_time": "2024-09-08T00:35:03.315243Z",
     "start_time": "2024-09-08T00:35:03.174349Z"
    }
   },
   "cell_type": "code",
   "source": "after_2015 = buildings.filter(pl.col(\"year\") > 2015)",
   "id": "470e6936e7223e4a",
   "outputs": [],
   "execution_count": 12
  },
  {
   "metadata": {
    "ExecuteTime": {
     "end_time": "2024-09-08T00:35:15.917849Z",
     "start_time": "2024-09-08T00:35:15.911511Z"
    }
   },
   "cell_type": "code",
   "source": "after_2015.shape",
   "id": "2218127a22ca7ce4",
   "outputs": [
    {
     "data": {
      "text/plain": [
       "(1230, 3)"
      ]
     },
     "execution_count": 13,
     "metadata": {},
     "output_type": "execute_result"
    }
   ],
   "execution_count": 13
  },
  {
   "metadata": {
    "ExecuteTime": {
     "end_time": "2024-09-08T00:36:07.877498Z",
     "start_time": "2024-09-08T00:36:07.870857Z"
    }
   },
   "cell_type": "code",
   "source": "after_2015.select(pl.col(\"year\").min())",
   "id": "bbd64e344920dcfa",
   "outputs": [
    {
     "data": {
      "text/plain": [
       "shape: (1, 1)\n",
       "┌──────┐\n",
       "│ year │\n",
       "│ ---  │\n",
       "│ i64  │\n",
       "╞══════╡\n",
       "│ 2016 │\n",
       "└──────┘"
      ],
      "text/html": [
       "<div><style>\n",
       ".dataframe > thead > tr,\n",
       ".dataframe > tbody > tr {\n",
       "  text-align: right;\n",
       "  white-space: pre-wrap;\n",
       "}\n",
       "</style>\n",
       "<small>shape: (1, 1)</small><table border=\"1\" class=\"dataframe\"><thead><tr><th>year</th></tr><tr><td>i64</td></tr></thead><tbody><tr><td>2016</td></tr></tbody></table></div>"
      ]
     },
     "execution_count": 14,
     "metadata": {},
     "output_type": "execute_result"
    }
   ],
   "execution_count": 14
  },
  {
   "metadata": {
    "ExecuteTime": {
     "end_time": "2024-09-08T00:41:20.934293Z",
     "start_time": "2024-09-08T00:41:20.926805Z"
    }
   },
   "cell_type": "code",
   "source": [
    "buildings.group_by(\"building_type\").agg(\n",
    "      [  pl.mean(\"sqft\").alias(\"mean_sqft\"),\n",
    "         pl.median(\"year\").alias(\"median_year\"),\n",
    "         pl.len().alias(\"count\"),])\n"
   ],
   "id": "1b87d4aeced51557",
   "outputs": [
    {
     "data": {
      "text/plain": [
       "shape: (3, 4)\n",
       "┌───────────────┬────────────┬─────────────┬───────┐\n",
       "│ building_type ┆ mean_sqft  ┆ median_year ┆ count │\n",
       "│ ---           ┆ ---        ┆ ---         ┆ ---   │\n",
       "│ str           ┆ f64        ┆ f64         ┆ u32   │\n",
       "╞═══════════════╪════════════╪═════════════╪═══════╡\n",
       "│ C             ┆ 999.854722 ┆ 2009.0      ┆ 1692  │\n",
       "│ A             ┆ 989.539918 ┆ 2009.0      ┆ 1653  │\n",
       "│ B             ┆ 992.754444 ┆ 2009.0      ┆ 1655  │\n",
       "└───────────────┴────────────┴─────────────┴───────┘"
      ],
      "text/html": [
       "<div><style>\n",
       ".dataframe > thead > tr,\n",
       ".dataframe > tbody > tr {\n",
       "  text-align: right;\n",
       "  white-space: pre-wrap;\n",
       "}\n",
       "</style>\n",
       "<small>shape: (3, 4)</small><table border=\"1\" class=\"dataframe\"><thead><tr><th>building_type</th><th>mean_sqft</th><th>median_year</th><th>count</th></tr><tr><td>str</td><td>f64</td><td>f64</td><td>u32</td></tr></thead><tbody><tr><td>&quot;C&quot;</td><td>999.854722</td><td>2009.0</td><td>1692</td></tr><tr><td>&quot;A&quot;</td><td>989.539918</td><td>2009.0</td><td>1653</td></tr><tr><td>&quot;B&quot;</td><td>992.754444</td><td>2009.0</td><td>1655</td></tr></tbody></table></div>"
      ]
     },
     "execution_count": 17,
     "metadata": {},
     "output_type": "execute_result"
    }
   ],
   "execution_count": 17
  },
  {
   "metadata": {},
   "cell_type": "code",
   "outputs": [],
   "execution_count": null,
   "source": "",
   "id": "4b18ac2209d0a646"
  }
 ],
 "metadata": {
  "kernelspec": {
   "display_name": "Python 3",
   "language": "python",
   "name": "python3"
  },
  "language_info": {
   "codemirror_mode": {
    "name": "ipython",
    "version": 2
   },
   "file_extension": ".py",
   "mimetype": "text/x-python",
   "name": "python",
   "nbconvert_exporter": "python",
   "pygments_lexer": "ipython2",
   "version": "2.7.6"
  }
 },
 "nbformat": 4,
 "nbformat_minor": 5
}
