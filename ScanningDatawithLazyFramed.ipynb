{
 "cells": [
  {
   "cell_type": "code",
   "id": "initial_id",
   "metadata": {
    "collapsed": true,
    "ExecuteTime": {
     "end_time": "2024-09-08T01:30:39.896372Z",
     "start_time": "2024-09-08T01:30:39.871070Z"
    }
   },
   "source": [
    "import polars as pl\n",
    "#https://catalog.data.gov/dataset/electric-vehicle-population-data\n",
    "lazy_car_data= pl.scan_csv('/Volumes/developer/Pycharm/data/Electric_Vehicle_Population_Data.csv')"
   ],
   "outputs": [],
   "execution_count": 2
  },
  {
   "metadata": {
    "ExecuteTime": {
     "end_time": "2024-09-08T01:31:30.449838Z",
     "start_time": "2024-09-08T01:31:30.444320Z"
    }
   },
   "cell_type": "code",
   "source": "lazy_car_data.collect_schema()",
   "id": "6496c8da726165ed",
   "outputs": [
    {
     "data": {
      "text/plain": [
       "Schema([('VIN (1-10)', String),\n",
       "        ('County', String),\n",
       "        ('City', String),\n",
       "        ('State', String),\n",
       "        ('Postal Code', Int64),\n",
       "        ('Model Year', Int64),\n",
       "        ('Make', String),\n",
       "        ('Model', String),\n",
       "        ('Electric Vehicle Type', String),\n",
       "        ('Clean Alternative Fuel Vehicle (CAFV) Eligibility', String),\n",
       "        ('Electric Range', Int64),\n",
       "        ('Base MSRP', Int64),\n",
       "        ('Legislative District', Int64),\n",
       "        ('DOL Vehicle ID', Int64),\n",
       "        ('Vehicle Location', String),\n",
       "        ('Electric Utility', String),\n",
       "        ('2020 Census Tract', Int64)])"
      ]
     },
     "execution_count": 4,
     "metadata": {},
     "output_type": "execute_result"
    }
   ],
   "execution_count": 4
  },
  {
   "metadata": {
    "ExecuteTime": {
     "end_time": "2024-09-08T01:36:28.742350Z",
     "start_time": "2024-09-08T01:36:28.723254Z"
    }
   },
   "cell_type": "code",
   "source": [
    "lazy_car_query = (\n",
    "     lazy_car_data\n",
    "     .filter((pl.col(\"Model Year\") >= 2018))\n",
    "     .filter(\n",
    "         pl.col(\"Electric Vehicle Type\") == \"Battery Electric Vehicle (BEV)\"\n",
    "     )\n",
    "     .group_by([\"State\", \"Make\"])\n",
    "     .agg(\n",
    "         pl.mean(\"Electric Range\").alias(\"Average Electric Range\"),\n",
    "         pl.min(\"Model Year\").alias(\"Oldest Model Year\"),\n",
    "        pl.len().alias(\"Number of Cars\"),\n",
    "    )\n",
    "     .filter(pl.col(\"Average Electric Range\") > 0)\n",
    "   .filter(pl.col(\"Number of Cars\") > 5)\n",
    "     .sort(pl.col(\"Number of Cars\"), descending=True)\n",
    ")"
   ],
   "id": "9304a612fe240ba9",
   "outputs": [],
   "execution_count": 11
  },
  {
   "metadata": {
    "ExecuteTime": {
     "end_time": "2024-09-08T01:36:30.566651Z",
     "start_time": "2024-09-08T01:36:30.502290Z"
    }
   },
   "cell_type": "code",
   "source": "lazy_car_query.collect()",
   "id": "ff0b966b5e78ee26",
   "outputs": [
    {
     "data": {
      "text/plain": [
       "shape: (23, 5)\n",
       "┌───────┬───────────┬────────────────────────┬───────────────────┬────────────────┐\n",
       "│ State ┆ Make      ┆ Average Electric Range ┆ Oldest Model Year ┆ Number of Cars │\n",
       "│ ---   ┆ ---       ┆ ---                    ┆ ---               ┆ ---            │\n",
       "│ str   ┆ str       ┆ f64                    ┆ i64               ┆ u32            │\n",
       "╞═══════╪═══════════╪════════════════════════╪═══════════════════╪════════════════╡\n",
       "│ WA    ┆ TESLA     ┆ 60.016801              ┆ 2018              ┆ 82021          │\n",
       "│ WA    ┆ CHEVROLET ┆ 94.878229              ┆ 2018              ┆ 8245           │\n",
       "│ WA    ┆ NISSAN    ┆ 72.131715              ┆ 2018              ┆ 6962           │\n",
       "│ WA    ┆ FORD      ┆ 0.121988               ┆ 2018              ┆ 6558           │\n",
       "│ WA    ┆ KIA       ┆ 38.988855              ┆ 2018              ┆ 5563           │\n",
       "│ …     ┆ …         ┆ …                      ┆ …                 ┆ …              │\n",
       "│ NC    ┆ TESLA     ┆ 19.545455              ┆ 2018              ┆ 11             │\n",
       "│ MD    ┆ TESLA     ┆ 46.0                   ┆ 2018              ┆ 11             │\n",
       "│ FL    ┆ TESLA     ┆ 104.428571             ┆ 2019              ┆ 7              │\n",
       "│ CO    ┆ TESLA     ┆ 35.833333              ┆ 2018              ┆ 6              │\n",
       "│ AZ    ┆ TESLA     ┆ 53.666667              ┆ 2020              ┆ 6              │\n",
       "└───────┴───────────┴────────────────────────┴───────────────────┴────────────────┘"
      ],
      "text/html": [
       "<div><style>\n",
       ".dataframe > thead > tr,\n",
       ".dataframe > tbody > tr {\n",
       "  text-align: right;\n",
       "  white-space: pre-wrap;\n",
       "}\n",
       "</style>\n",
       "<small>shape: (23, 5)</small><table border=\"1\" class=\"dataframe\"><thead><tr><th>State</th><th>Make</th><th>Average Electric Range</th><th>Oldest Model Year</th><th>Number of Cars</th></tr><tr><td>str</td><td>str</td><td>f64</td><td>i64</td><td>u32</td></tr></thead><tbody><tr><td>&quot;WA&quot;</td><td>&quot;TESLA&quot;</td><td>60.016801</td><td>2018</td><td>82021</td></tr><tr><td>&quot;WA&quot;</td><td>&quot;CHEVROLET&quot;</td><td>94.878229</td><td>2018</td><td>8245</td></tr><tr><td>&quot;WA&quot;</td><td>&quot;NISSAN&quot;</td><td>72.131715</td><td>2018</td><td>6962</td></tr><tr><td>&quot;WA&quot;</td><td>&quot;FORD&quot;</td><td>0.121988</td><td>2018</td><td>6558</td></tr><tr><td>&quot;WA&quot;</td><td>&quot;KIA&quot;</td><td>38.988855</td><td>2018</td><td>5563</td></tr><tr><td>&hellip;</td><td>&hellip;</td><td>&hellip;</td><td>&hellip;</td><td>&hellip;</td></tr><tr><td>&quot;NC&quot;</td><td>&quot;TESLA&quot;</td><td>19.545455</td><td>2018</td><td>11</td></tr><tr><td>&quot;MD&quot;</td><td>&quot;TESLA&quot;</td><td>46.0</td><td>2018</td><td>11</td></tr><tr><td>&quot;FL&quot;</td><td>&quot;TESLA&quot;</td><td>104.428571</td><td>2019</td><td>7</td></tr><tr><td>&quot;CO&quot;</td><td>&quot;TESLA&quot;</td><td>35.833333</td><td>2018</td><td>6</td></tr><tr><td>&quot;AZ&quot;</td><td>&quot;TESLA&quot;</td><td>53.666667</td><td>2020</td><td>6</td></tr></tbody></table></div>"
      ]
     },
     "execution_count": 12,
     "metadata": {},
     "output_type": "execute_result"
    }
   ],
   "execution_count": 12
  },
  {
   "metadata": {
    "ExecuteTime": {
     "end_time": "2024-09-08T01:32:28.634958Z",
     "start_time": "2024-09-08T01:32:09.834199Z"
    }
   },
   "cell_type": "code",
   "source": "",
   "id": "5db22a37586b0929",
   "outputs": [
    {
     "ename": "KeyboardInterrupt",
     "evalue": "",
     "output_type": "error",
     "traceback": [
      "\u001B[0;31m---------------------------------------------------------------------------\u001B[0m",
      "\u001B[0;31mKeyboardInterrupt\u001B[0m                         Traceback (most recent call last)",
      "Cell \u001B[0;32mIn[5], line 1\u001B[0m\n\u001B[0;32m----> 1\u001B[0m \u001B[38;5;28mprint\u001B[39m()\n",
      "File \u001B[0;32m_pydevd_bundle/pydevd_cython_darwin_311_64.pyx:1187\u001B[0m, in \u001B[0;36m_pydevd_bundle.pydevd_cython_darwin_311_64.SafeCallWrapper.__call__\u001B[0;34m()\u001B[0m\n",
      "File \u001B[0;32m_pydevd_bundle/pydevd_cython_darwin_311_64.pyx:627\u001B[0m, in \u001B[0;36m_pydevd_bundle.pydevd_cython_darwin_311_64.PyDBFrame.trace_dispatch\u001B[0;34m()\u001B[0m\n",
      "File \u001B[0;32m_pydevd_bundle/pydevd_cython_darwin_311_64.pyx:937\u001B[0m, in \u001B[0;36m_pydevd_bundle.pydevd_cython_darwin_311_64.PyDBFrame.trace_dispatch\u001B[0;34m()\u001B[0m\n",
      "File \u001B[0;32m_pydevd_bundle/pydevd_cython_darwin_311_64.pyx:928\u001B[0m, in \u001B[0;36m_pydevd_bundle.pydevd_cython_darwin_311_64.PyDBFrame.trace_dispatch\u001B[0;34m()\u001B[0m\n",
      "File \u001B[0;32m_pydevd_bundle/pydevd_cython_darwin_311_64.pyx:585\u001B[0m, in \u001B[0;36m_pydevd_bundle.pydevd_cython_darwin_311_64.PyDBFrame.do_wait_suspend\u001B[0;34m()\u001B[0m\n",
      "File \u001B[0;32m/Volumes/developer/Pycharm/PyCharm.app/Contents/plugins/python-ce/helpers/pydev/pydevd.py:1207\u001B[0m, in \u001B[0;36mPyDB.do_wait_suspend\u001B[0;34m(self, thread, frame, event, arg, send_suspend_message, is_unhandled_exception)\u001B[0m\n\u001B[1;32m   1204\u001B[0m         from_this_thread\u001B[38;5;241m.\u001B[39mappend(frame_id)\n\u001B[1;32m   1206\u001B[0m \u001B[38;5;28;01mwith\u001B[39;00m \u001B[38;5;28mself\u001B[39m\u001B[38;5;241m.\u001B[39m_threads_suspended_single_notification\u001B[38;5;241m.\u001B[39mnotify_thread_suspended(thread_id, stop_reason):\n\u001B[0;32m-> 1207\u001B[0m     \u001B[38;5;28;43mself\u001B[39;49m\u001B[38;5;241;43m.\u001B[39;49m\u001B[43m_do_wait_suspend\u001B[49m\u001B[43m(\u001B[49m\u001B[43mthread\u001B[49m\u001B[43m,\u001B[49m\u001B[43m \u001B[49m\u001B[43mframe\u001B[49m\u001B[43m,\u001B[49m\u001B[43m \u001B[49m\u001B[43mevent\u001B[49m\u001B[43m,\u001B[49m\u001B[43m \u001B[49m\u001B[43marg\u001B[49m\u001B[43m,\u001B[49m\u001B[43m \u001B[49m\u001B[43msuspend_type\u001B[49m\u001B[43m,\u001B[49m\u001B[43m \u001B[49m\u001B[43mfrom_this_thread\u001B[49m\u001B[43m)\u001B[49m\n",
      "File \u001B[0;32m/Volumes/developer/Pycharm/PyCharm.app/Contents/plugins/python-ce/helpers/pydev/pydevd.py:1222\u001B[0m, in \u001B[0;36mPyDB._do_wait_suspend\u001B[0;34m(self, thread, frame, event, arg, suspend_type, from_this_thread)\u001B[0m\n\u001B[1;32m   1219\u001B[0m             \u001B[38;5;28mself\u001B[39m\u001B[38;5;241m.\u001B[39m_call_mpl_hook()\n\u001B[1;32m   1221\u001B[0m         \u001B[38;5;28mself\u001B[39m\u001B[38;5;241m.\u001B[39mprocess_internal_commands()\n\u001B[0;32m-> 1222\u001B[0m         \u001B[43mtime\u001B[49m\u001B[38;5;241;43m.\u001B[39;49m\u001B[43msleep\u001B[49m\u001B[43m(\u001B[49m\u001B[38;5;241;43m0.01\u001B[39;49m\u001B[43m)\u001B[49m\n\u001B[1;32m   1224\u001B[0m \u001B[38;5;28mself\u001B[39m\u001B[38;5;241m.\u001B[39mcancel_async_evaluation(get_current_thread_id(thread), \u001B[38;5;28mstr\u001B[39m(\u001B[38;5;28mid\u001B[39m(frame)))\n\u001B[1;32m   1226\u001B[0m \u001B[38;5;66;03m# process any stepping instructions\u001B[39;00m\n",
      "\u001B[0;31mKeyboardInterrupt\u001B[0m: "
     ]
    }
   ],
   "execution_count": 5
  }
 ],
 "metadata": {
  "kernelspec": {
   "display_name": "Python 3",
   "language": "python",
   "name": "python3"
  },
  "language_info": {
   "codemirror_mode": {
    "name": "ipython",
    "version": 2
   },
   "file_extension": ".py",
   "mimetype": "text/x-python",
   "name": "python",
   "nbconvert_exporter": "python",
   "pygments_lexer": "ipython2",
   "version": "2.7.6"
  }
 },
 "nbformat": 4,
 "nbformat_minor": 5
}
