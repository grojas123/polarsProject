{
 "cells": [
  {
   "cell_type": "code",
   "id": "initial_id",
   "metadata": {
    "collapsed": true,
    "ExecuteTime": {
     "end_time": "2024-09-08T01:41:55.584097Z",
     "start_time": "2024-09-08T01:41:54.978741Z"
    }
   },
   "source": [
    "import polars as pl\n",
    "\n",
    "data = pl.DataFrame({\n",
    "     \"A\": [1, 2, 3, 4, 5],\n",
    "     \"B\": [6, 7, 8, 9, 10],\n",
    " })\n",
    "\n",
    "data.write_csv(\"data.csv\")\n",
    "data.write_ndjson(\"data.json\")\n",
    "data.write_parquet(\"data.parquet\")"
   ],
   "outputs": [],
   "execution_count": 1
  },
  {
   "metadata": {
    "ExecuteTime": {
     "end_time": "2024-09-08T01:44:03.080018Z",
     "start_time": "2024-09-08T01:44:03.073795Z"
    }
   },
   "cell_type": "code",
   "source": [
    "data_csv = pl.read_csv(\"data.csv\")\n",
    "data_csv_lazy = pl.scan_csv(\"data.csv\")\n",
    "data_csv_lazy.collect_schema()"
   ],
   "id": "a9c634564f2fdfdf",
   "outputs": [
    {
     "data": {
      "text/plain": [
       "Schema([('A', Int64), ('B', Int64)])"
      ]
     },
     "execution_count": 3,
     "metadata": {},
     "output_type": "execute_result"
    }
   ],
   "execution_count": 3
  },
  {
   "metadata": {
    "ExecuteTime": {
     "end_time": "2024-09-08T01:44:07.824643Z",
     "start_time": "2024-09-08T01:44:07.818738Z"
    }
   },
   "cell_type": "code",
   "source": [
    "data_json = pl.read_ndjson(\"data.json\")\n",
    "data_json_lazy = pl.scan_ndjson(\"data.json\")\n",
    "data_json_lazy.collect_schema()"
   ],
   "id": "de8af85832eaced",
   "outputs": [
    {
     "data": {
      "text/plain": [
       "Schema([('A', Int64), ('B', Int64)])"
      ]
     },
     "execution_count": 4,
     "metadata": {},
     "output_type": "execute_result"
    }
   ],
   "execution_count": 4
  },
  {
   "metadata": {
    "ExecuteTime": {
     "end_time": "2024-09-08T01:44:13.259602Z",
     "start_time": "2024-09-08T01:44:13.253386Z"
    }
   },
   "cell_type": "code",
   "source": [
    "data_parquet = pl.read_parquet(\"data.parquet\")\n",
    "data_parquet_lazy = pl.scan_parquet(\"data.parquet\")\n",
    "data_parquet_lazy.collect_schema()\n"
   ],
   "id": "7cdb6f76b251660a",
   "outputs": [
    {
     "data": {
      "text/plain": [
       "Schema([('A', Int64), ('B', Int64)])"
      ]
     },
     "execution_count": 5,
     "metadata": {},
     "output_type": "execute_result"
    }
   ],
   "execution_count": 5
  },
  {
   "metadata": {},
   "cell_type": "code",
   "outputs": [],
   "execution_count": null,
   "source": "",
   "id": "da16b24a516fa2ef"
  }
 ],
 "metadata": {
  "kernelspec": {
   "display_name": "Python 3",
   "language": "python",
   "name": "python3"
  },
  "language_info": {
   "codemirror_mode": {
    "name": "ipython",
    "version": 2
   },
   "file_extension": ".py",
   "mimetype": "text/x-python",
   "name": "python",
   "nbconvert_exporter": "python",
   "pygments_lexer": "ipython2",
   "version": "2.7.6"
  }
 },
 "nbformat": 4,
 "nbformat_minor": 5
}
