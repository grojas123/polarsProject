{
 "cells": [
  {
   "metadata": {
    "ExecuteTime": {
     "end_time": "2024-09-08T00:45:21.056851Z",
     "start_time": "2024-09-08T00:45:21.032218Z"
    }
   },
   "cell_type": "code",
   "source": [
    "import numpy as np\n",
    "import polars as pl\n",
    "\n",
    "num_rows = 5000\n",
    "rng = np.random.default_rng(seed=7)\n",
    "\n",
    "buildings = {\n",
    "      \"sqft\": rng.exponential(scale=1000, size=num_rows),\n",
    "     \"price\": rng.exponential(scale=100_000, size=num_rows),\n",
    "     \"year\": rng.integers(low=1995, high=2023, size=num_rows),\n",
    "     \"building_type\": rng.choice([\"A\", \"B\", \"C\"], size=num_rows),\n",
    "  }\n",
    "buildings_lazy = pl.LazyFrame(buildings)\n",
    "buildings_lazy\n"
   ],
   "id": "e669b9c547a95bc",
   "outputs": [
    {
     "data": {
      "text/plain": [
       "<LazyFrame at 0x117D236D0>"
      ],
      "text/html": [
       "<i>naive plan: (run <b>LazyFrame.explain(optimized=True)</b> to see the optimized plan)</i>\n",
       "    <p></p>\n",
       "    <div>DF [\"sqft\", \"price\", \"year\", \"building_type\"]; PROJECT */4 COLUMNS; SELECTION: None</div>"
      ]
     },
     "execution_count": 3,
     "metadata": {},
     "output_type": "execute_result"
    }
   ],
   "execution_count": 3
  },
  {
   "metadata": {
    "ExecuteTime": {
     "end_time": "2024-09-08T00:48:48.641543Z",
     "start_time": "2024-09-08T00:48:48.613741Z"
    }
   },
   "cell_type": "code",
   "source": [
    "lazy_query = (\n",
    "     buildings_lazy\n",
    "     .with_columns(\n",
    "         (pl.col(\"price\") / pl.col(\"sqft\")).alias(\"price_per_sqft\")\n",
    "     )\n",
    "    .filter(pl.col(\"price_per_sqft\") > 100)\n",
    "    .filter(pl.col(\"year\") < 2010)\n",
    "  )\n",
    "lazy_query"
   ],
   "id": "d2243e2e4e80864d",
   "outputs": [
    {
     "data": {
      "text/plain": [
       "<LazyFrame at 0x111E7FC10>"
      ],
      "text/html": [
       "<i>naive plan: (run <b>LazyFrame.explain(optimized=True)</b> to see the optimized plan)</i>\n",
       "    <p></p>\n",
       "    <div>FILTER [(col(\"year\")) < (2010)] FROM<p></p>  FILTER [(col(\"price_per_sqft\")) > (100.0)] FROM<p></p>     WITH_COLUMNS:<p></p>     [[(col(\"price\")) / (col(\"sqft\"))].alias(\"price_per_sqft\")] <p></p>      DF [\"sqft\", \"price\", \"year\", \"building_type\"]; PROJECT */4 COLUMNS; SELECTION: None</div>"
      ]
     },
     "execution_count": 4,
     "metadata": {},
     "output_type": "execute_result"
    }
   ],
   "execution_count": 4
  },
  {
   "metadata": {
    "ExecuteTime": {
     "end_time": "2024-09-08T00:56:27.282466Z",
     "start_time": "2024-09-08T00:56:26.868700Z"
    }
   },
   "cell_type": "code",
   "source": "lazy_query.show_graph()",
   "id": "7419451188756d22",
   "outputs": [
    {
     "data": {
      "text/plain": [
       "<IPython.core.display.SVG object>"
      ],
      "image/svg+xml": "<svg xmlns=\"http://www.w3.org/2000/svg\" xmlns:xlink=\"http://www.w3.org/1999/xlink\" width=\"440pt\" height=\"205pt\" viewBox=\"0.00 0.00 440.00 205.00\">\n<g id=\"graph0\" class=\"graph\" transform=\"scale(1 1) rotate(0) translate(4 201)\">\n<title>polars_query</title>\n<polygon fill=\"white\" stroke=\"transparent\" points=\"-4,4 -4,-201 436,-201 436,4 -4,4\"/>\n<!-- p1 -->\n<g id=\"node1\" class=\"node\">\n<title>p1</title>\n<polygon fill=\"none\" stroke=\"black\" points=\"357,-197 75,-197 75,-161 357,-161 357,-197\"/>\n<text text-anchor=\"middle\" x=\"216\" y=\"-175.3\" font-family=\"Times,serif\" font-size=\"14.00\">FILTER BY [(col(&quot;price_per_sqft&quot;)) &gt; (100.0)]</text>\n</g>\n<!-- p2 -->\n<g id=\"node2\" class=\"node\">\n<title>p2</title>\n<polygon fill=\"none\" stroke=\"black\" points=\"432,-125 0,-125 0,-89 432,-89 432,-125\"/>\n<text text-anchor=\"middle\" x=\"216\" y=\"-103.3\" font-family=\"Times,serif\" font-size=\"14.00\">WITH COLUMNS [[(col(&quot;price&quot;)) / (col(&quot;sqft&quot;))].alias(&quot;price_per_sqft&quot;)]</text>\n</g>\n<!-- p1&#45;&#45;p2 -->\n<g id=\"edge1\" class=\"edge\">\n<title>p1--p2</title>\n<path fill=\"none\" stroke=\"black\" d=\"M216,-160.7C216,-149.85 216,-135.92 216,-125.1\"/>\n</g>\n<!-- p3 -->\n<g id=\"node3\" class=\"node\">\n<title>p3</title>\n<polygon fill=\"none\" stroke=\"black\" points=\"296,-53 136,-53 136,0 296,0 296,-53\"/>\n<text text-anchor=\"middle\" x=\"216\" y=\"-37.8\" font-family=\"Times,serif\" font-size=\"14.00\">TABLE</text>\n<text text-anchor=\"middle\" x=\"216\" y=\"-22.8\" font-family=\"Times,serif\" font-size=\"14.00\">π */4;</text>\n<text text-anchor=\"middle\" x=\"216\" y=\"-7.8\" font-family=\"Times,serif\" font-size=\"14.00\">σ [(col(&quot;year&quot;)) &lt; (2010)]</text>\n</g>\n<!-- p2&#45;&#45;p3 -->\n<g id=\"edge2\" class=\"edge\">\n<title>p2--p3</title>\n<path fill=\"none\" stroke=\"black\" d=\"M216,-88.97C216,-78.51 216,-64.9 216,-53.16\"/>\n</g>\n</g>\n</svg>"
     },
     "metadata": {},
     "output_type": "display_data"
    }
   ],
   "execution_count": 7
  },
  {
   "metadata": {
    "ExecuteTime": {
     "end_time": "2024-09-08T00:57:12.114586Z",
     "start_time": "2024-09-08T00:57:12.103529Z"
    }
   },
   "cell_type": "code",
   "source": "print(lazy_query.explain())",
   "id": "4ce58b29f41a2be",
   "outputs": [
    {
     "name": "stdout",
     "output_type": "stream",
     "text": [
      "FILTER [(col(\"price_per_sqft\")) > (100.0)] FROM\n",
      "   WITH_COLUMNS:\n",
      "   [[(col(\"price\")) / (col(\"sqft\"))].alias(\"price_per_sqft\")] \n",
      "    DF [\"sqft\", \"price\", \"year\", \"building_type\"]; PROJECT */4 COLUMNS; SELECTION: [(col(\"year\")) < (2010)]\n"
     ]
    }
   ],
   "execution_count": 8
  },
  {
   "metadata": {
    "ExecuteTime": {
     "end_time": "2024-09-08T00:59:40.052165Z",
     "start_time": "2024-09-08T00:59:40.008845Z"
    }
   },
   "cell_type": "code",
   "source": [
    "lazy_query = (\n",
    "     buildings_lazy\n",
    "     .with_columns(\n",
    "         (pl.col(\"price\") / pl.col(\"sqft\")).alias(\"price_per_sqft\")\n",
    "     )\n",
    "     .filter(pl.col(\"price_per_sqft\") > 100)\n",
    "     .filter(pl.col(\"year\") < 2010)\n",
    ")\n",
    "\n",
    "( lazy_query\n",
    "    .collect()\n",
    "     .select(pl.col([\"price_per_sqft\", \"year\"]))\n",
    ")"
   ],
   "id": "351d72f1ab59a0cf",
   "outputs": [
    {
     "data": {
      "text/plain": [
       "shape: (1_317, 2)\n",
       "┌────────────────┬──────┐\n",
       "│ price_per_sqft ┆ year │\n",
       "│ ---            ┆ ---  │\n",
       "│ f64            ┆ i64  │\n",
       "╞════════════════╪══════╡\n",
       "│ 3268.19045     ┆ 1996 │\n",
       "│ 274.339166     ┆ 2000 │\n",
       "│ 296.979717     ┆ 2004 │\n",
       "│ 378.86472      ┆ 2002 │\n",
       "│ 127.302589     ┆ 1995 │\n",
       "│ …              ┆ …    │\n",
       "│ 265.702962     ┆ 2008 │\n",
       "│ 2481.810063    ┆ 2009 │\n",
       "│ 698.203822     ┆ 2008 │\n",
       "│ 541.067767     ┆ 2005 │\n",
       "│ 107.170005     ┆ 1995 │\n",
       "└────────────────┴──────┘"
      ],
      "text/html": [
       "<div><style>\n",
       ".dataframe > thead > tr,\n",
       ".dataframe > tbody > tr {\n",
       "  text-align: right;\n",
       "  white-space: pre-wrap;\n",
       "}\n",
       "</style>\n",
       "<small>shape: (1_317, 2)</small><table border=\"1\" class=\"dataframe\"><thead><tr><th>price_per_sqft</th><th>year</th></tr><tr><td>f64</td><td>i64</td></tr></thead><tbody><tr><td>3268.19045</td><td>1996</td></tr><tr><td>274.339166</td><td>2000</td></tr><tr><td>296.979717</td><td>2004</td></tr><tr><td>378.86472</td><td>2002</td></tr><tr><td>127.302589</td><td>1995</td></tr><tr><td>&hellip;</td><td>&hellip;</td></tr><tr><td>265.702962</td><td>2008</td></tr><tr><td>2481.810063</td><td>2009</td></tr><tr><td>698.203822</td><td>2008</td></tr><tr><td>541.067767</td><td>2005</td></tr><tr><td>107.170005</td><td>1995</td></tr></tbody></table></div>"
      ]
     },
     "execution_count": 10,
     "metadata": {},
     "output_type": "execute_result"
    }
   ],
   "execution_count": 10
  },
  {
   "metadata": {
    "ExecuteTime": {
     "end_time": "2024-09-08T01:00:31.820470Z",
     "start_time": "2024-09-08T01:00:31.811732Z"
    }
   },
   "cell_type": "code",
   "source": [
    "( lazy_query\n",
    "  .collect()\n",
    "  .select(pl.col([\"price_per_sqft\", \"year\"]))\n",
    "  .describe()\n",
    " )"
   ],
   "id": "bcddf09d637cc836",
   "outputs": [
    {
     "data": {
      "text/plain": [
       "shape: (9, 3)\n",
       "┌────────────┬────────────────┬─────────────┐\n",
       "│ statistic  ┆ price_per_sqft ┆ year        │\n",
       "│ ---        ┆ ---            ┆ ---         │\n",
       "│ str        ┆ f64            ┆ f64         │\n",
       "╞════════════╪════════════════╪═════════════╡\n",
       "│ count      ┆ 1317.0         ┆ 1317.0      │\n",
       "│ null_count ┆ 0.0            ┆ 0.0         │\n",
       "│ mean       ┆ 1400.622815    ┆ 2002.003037 │\n",
       "│ std        ┆ 5755.888716    ┆ 4.324595    │\n",
       "│ min        ┆ 100.02061      ┆ 1995.0      │\n",
       "│ 25%        ┆ 166.351274     ┆ 1998.0      │\n",
       "│ 50%        ┆ 296.71958      ┆ 2002.0      │\n",
       "│ 75%        ┆ 744.552161     ┆ 2006.0      │\n",
       "│ max        ┆ 90314.966163   ┆ 2009.0      │\n",
       "└────────────┴────────────────┴─────────────┘"
      ],
      "text/html": [
       "<div><style>\n",
       ".dataframe > thead > tr,\n",
       ".dataframe > tbody > tr {\n",
       "  text-align: right;\n",
       "  white-space: pre-wrap;\n",
       "}\n",
       "</style>\n",
       "<small>shape: (9, 3)</small><table border=\"1\" class=\"dataframe\"><thead><tr><th>statistic</th><th>price_per_sqft</th><th>year</th></tr><tr><td>str</td><td>f64</td><td>f64</td></tr></thead><tbody><tr><td>&quot;count&quot;</td><td>1317.0</td><td>1317.0</td></tr><tr><td>&quot;null_count&quot;</td><td>0.0</td><td>0.0</td></tr><tr><td>&quot;mean&quot;</td><td>1400.622815</td><td>2002.003037</td></tr><tr><td>&quot;std&quot;</td><td>5755.888716</td><td>4.324595</td></tr><tr><td>&quot;min&quot;</td><td>100.02061</td><td>1995.0</td></tr><tr><td>&quot;25%&quot;</td><td>166.351274</td><td>1998.0</td></tr><tr><td>&quot;50%&quot;</td><td>296.71958</td><td>2002.0</td></tr><tr><td>&quot;75%&quot;</td><td>744.552161</td><td>2006.0</td></tr><tr><td>&quot;max&quot;</td><td>90314.966163</td><td>2009.0</td></tr></tbody></table></div>"
      ]
     },
     "execution_count": 11,
     "metadata": {},
     "output_type": "execute_result"
    }
   ],
   "execution_count": 11
  },
  {
   "metadata": {},
   "cell_type": "code",
   "outputs": [],
   "execution_count": null,
   "source": "",
   "id": "d68a11878e6c5bb1"
  }
 ],
 "metadata": {
  "kernelspec": {
   "display_name": "Python 3",
   "language": "python",
   "name": "python3"
  },
  "language_info": {
   "codemirror_mode": {
    "name": "ipython",
    "version": 2
   },
   "file_extension": ".py",
   "mimetype": "text/x-python",
   "name": "python",
   "nbconvert_exporter": "python",
   "pygments_lexer": "ipython2",
   "version": "2.7.6"
  }
 },
 "nbformat": 4,
 "nbformat_minor": 5
}
